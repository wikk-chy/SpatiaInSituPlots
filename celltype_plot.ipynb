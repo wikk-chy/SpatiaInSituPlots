{
 "cells": [
  {
   "cell_type": "code",
   "execution_count": 12,
   "metadata": {},
   "outputs": [],
   "source": [
    "import pandas as pd\n",
    "from skimage.io import imread\n",
    "from utils import get_new_mask, draw_type_mask"
   ]
  },
  {
   "cell_type": "code",
   "execution_count": 9,
   "metadata": {},
   "outputs": [],
   "source": [
    "cell_types = ['T_cells', 'NK_cells', 'B_cells', \n",
    "              'Endothelial_cells','Macrophages', \n",
    "              'Epithelial_cells', 'Fibroblasts ', \n",
    "              'Neutrophils', 'Undefined']\n",
    "colors = [\"#ffeb3b\", \"#ab47bc\", \"#1e88e5\",\n",
    "          \"#4caf50\",\"#EE5061\",\"#ff5722\",\n",
    "          \"#607d8b\", \"#FFA7FF\", '#000000']"
   ]
  },
  {
   "cell_type": "code",
   "execution_count": 13,
   "metadata": {},
   "outputs": [
    {
     "name": "stdout",
     "output_type": "stream",
     "text": [
      "(2937, 2874)\n"
     ]
    },
    {
     "ename": "TypeError",
     "evalue": "get_new_mask() takes 2 positional arguments but 3 were given",
     "output_type": "error",
     "traceback": [
      "\u001b[0;31m---------------------------------------------------------------------------\u001b[0m",
      "\u001b[0;31mTypeError\u001b[0m                                 Traceback (most recent call last)",
      "Cell \u001b[0;32mIn[13], line 5\u001b[0m\n\u001b[1;32m      3\u001b[0m mask \u001b[38;5;241m=\u001b[39m imread(\u001b[38;5;124mf\u001b[39m\u001b[38;5;124m\"\u001b[39m\u001b[38;5;124mtest.tif\u001b[39m\u001b[38;5;124m\"\u001b[39m)\n\u001b[1;32m      4\u001b[0m \u001b[38;5;28mprint\u001b[39m(mask\u001b[38;5;241m.\u001b[39mshape)\n\u001b[0;32m----> 5\u001b[0m new_mask \u001b[38;5;241m=\u001b[39m \u001b[43mget_new_mask\u001b[49m\u001b[43m(\u001b[49m\u001b[43mmask\u001b[49m\u001b[43m,\u001b[49m\u001b[43m \u001b[49m\u001b[43mcell_df\u001b[49m\u001b[43m,\u001b[49m\u001b[43m \u001b[49m\u001b[43mcell_types\u001b[49m\u001b[43m)\u001b[49m\n\u001b[1;32m      6\u001b[0m m0 \u001b[38;5;241m=\u001b[39m new_mask\n\u001b[1;32m      7\u001b[0m back \u001b[38;5;241m=\u001b[39m imread(\u001b[38;5;124mf\u001b[39m\u001b[38;5;124m'\u001b[39m\u001b[38;5;124m./test.png\u001b[39m\u001b[38;5;124m'\u001b[39m)\n",
      "\u001b[0;31mTypeError\u001b[0m: get_new_mask() takes 2 positional arguments but 3 were given"
     ]
    }
   ],
   "source": [
    "cell_df = pd.read_csv(f\"./test_matrix.csv\", sep=\",\")\n",
    "cell_df = cell_df[cell_df['cell'] != '(nan, nan)']\n",
    "mask = imread(f\"test.tif\")\n",
    "print(mask.shape)\n",
    "new_mask = get_new_mask(mask, cell_df, cell_types)\n",
    "m0 = new_mask\n",
    "back = imread(f'./test.png')\n",
    "print(back.shape)\n",
    "back = back[0][0][0]\n",
    "figsize = (mask.shape[0] * 0.05, mask.shape[1] * 0.05)\n",
    "fig, ax = plt.subplots(figsize=figsize)\n",
    "output_path = f'./cell_type.pdf'\n",
    "draw_type_mask(ax, m0, olors=colors, back = back, labels=cell_types, output_path=output_path)\n",
    "ax.axis('off')"
   ]
  }
 ],
 "metadata": {
  "kernelspec": {
   "display_name": "py",
   "language": "python",
   "name": "python3"
  },
  "language_info": {
   "codemirror_mode": {
    "name": "ipython",
    "version": 3
   },
   "file_extension": ".py",
   "mimetype": "text/x-python",
   "name": "python",
   "nbconvert_exporter": "python",
   "pygments_lexer": "ipython3",
   "version": "3.11.4"
  }
 },
 "nbformat": 4,
 "nbformat_minor": 2
}
