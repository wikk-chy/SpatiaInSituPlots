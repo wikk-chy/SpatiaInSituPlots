{
 "cells": [
  {
   "cell_type": "code",
   "execution_count": 4,
   "metadata": {},
   "outputs": [
    {
     "ename": "ImportError",
     "evalue": "attempted relative import with no known parent package",
     "output_type": "error",
     "traceback": [
      "\u001b[0;31m---------------------------------------------------------------------------\u001b[0m",
      "\u001b[0;31mImportError\u001b[0m                               Traceback (most recent call last)",
      "Cell \u001b[0;32mIn[4], line 1\u001b[0m\n\u001b[0;32m----> 1\u001b[0m \u001b[38;5;28;01mfrom\u001b[39;00m \u001b[38;5;21;01m.\u001b[39;00m\u001b[38;5;21;01mutils\u001b[39;00m \u001b[38;5;28;01mimport\u001b[39;00m get_new_mask\n",
      "\u001b[0;31mImportError\u001b[0m: attempted relative import with no known parent package"
     ]
    }
   ],
   "source": [
    "from .utils import get_new_mask"
   ]
  },
  {
   "cell_type": "code",
   "execution_count": 1,
   "metadata": {},
   "outputs": [],
   "source": [
    "cell_types = ['T_cells', 'NK_cells', 'B_cells', \n",
    "              'Endothelial_cells','Macrophages', \n",
    "              'Epithelial_cells', 'Fibroblasts ', \n",
    "              'Neutrophils', 'Undefined']\n",
    "colors = [\"#ffeb3b\", \"#ab47bc\", \"#1e88e5\",\n",
    "          \"#4caf50\",\"#EE5061\",\"#ff5722\",\n",
    "          \"#607d8b\", \"#FFA7FF\", '#000000']"
   ]
  },
  {
   "cell_type": "code",
   "execution_count": null,
   "metadata": {},
   "outputs": [],
   "source": [
    "cell_df = pd.read_csv(f\"./{input_dir}/{csv}\", sep=\",\")\n",
    "cell_df = cell_df[cell_df['cell'] != '(nan, nan)']\n",
    "file = sample.split('.')[0]\n",
    "mask = imread(f\"./PG-20240619/{file}_mask.tif\")\n",
    "print(mask.shape)\n",
    "mask = mask[0][0][0]  # Adjusted mask indexing\n",
    "new_mask = get_new_mask(mask, cell_df)\n",
    "m0 = new_mask\n",
    "back = imread(f'./PG-20240619/{file}.png')\n",
    "print(back.shape)\n",
    "back = back[0][0][0]\n",
    "figsize = (mask.shape[0] * 0.05, mask.shape[1] * 0.05)\n",
    "fig, ax = plt.subplots(figsize=figsize)\n",
    "output_path = f'./celltype-plot-20240618/{file}.pdf'\n",
    "draw_type_mask(ax, m0, colors=colors, back = back, labels=cell_types)\n",
    "ax.axis('off')"
   ]
  }
 ],
 "metadata": {
  "kernelspec": {
   "display_name": "py",
   "language": "python",
   "name": "python3"
  },
  "language_info": {
   "codemirror_mode": {
    "name": "ipython",
    "version": 3
   },
   "file_extension": ".py",
   "mimetype": "text/x-python",
   "name": "python",
   "nbconvert_exporter": "python",
   "pygments_lexer": "ipython3",
   "version": "3.11.4"
  }
 },
 "nbformat": 4,
 "nbformat_minor": 2
}
