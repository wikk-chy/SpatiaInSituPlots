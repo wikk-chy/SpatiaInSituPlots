{
 "cells": [
  {
   "cell_type": "code",
   "execution_count": 1,
   "metadata": {},
   "outputs": [
    {
     "name": "stdout",
     "output_type": "stream",
     "text": [
      "Intel MKL WARNING: Support of Intel(R) Streaming SIMD Extensions 4.2 (Intel(R) SSE4.2) enabled only processors has been deprecated. Intel oneAPI Math Kernel Library 2025.0 will require Intel(R) Advanced Vector Extensions (Intel(R) AVX) instructions.\n",
      "Intel MKL WARNING: Support of Intel(R) Streaming SIMD Extensions 4.2 (Intel(R) SSE4.2) enabled only processors has been deprecated. Intel oneAPI Math Kernel Library 2025.0 will require Intel(R) Advanced Vector Extensions (Intel(R) AVX) instructions.\n"
     ]
    }
   ],
   "source": [
    "import os\n",
    "import pandas as pd\n",
    "import numpy as np\n",
    "from skimage.io import imread\n",
    "from skimage import measure\n",
    "import matplotlib.pyplot as plt"
   ]
  },
  {
   "cell_type": "code",
   "execution_count": 2,
   "metadata": {},
   "outputs": [],
   "source": [
    "from tqdm import tqdm"
   ]
  },
  {
   "cell_type": "code",
   "execution_count": 3,
   "metadata": {},
   "outputs": [],
   "source": [
    "dict_color = {\n",
    "    \"Dennd5b\": \"#FF9966\",\n",
    "    \"Pax5\": \"#ffff8d\",\n",
    "    \"Tiam1\": \"#ff6d00\",\n",
    "    \"Npr3\": \"#ffd180\",\n",
    "    \"Vwf\": \"#80d8ff\",\n",
    "    \"Sftpc\": \"#c51162\" ,\n",
    "    \"Ralyl\": \"#ff80ab\",\n",
    "    \"Col1a1\": \"#304ffe\",\n",
    "    \"Apoa1\": \"#8c9eff\",\n",
    "    \"Il1r2\": \"#8976ff\",\n",
    "    \"Il2rb\": \"#f05a9e\",\n",
    "    \"Cd7\": \"#d75ff6\",\n",
    "    \"Cd28\": \"#448aff\",\n",
    "    \"G0s2\": \"#2196f3\",\n",
    "    \"Angptl4\": \"#03a9f4\",\n",
    "    \"Sdc4\": \"#40c4ff\",\n",
    "    \"Sdc2\": \"#00c853\",\n",
    "    \"Tlr4\": \"#8bc34a\",\n",
    "    \"Cd226\": \"#4caf50\",\n",
    "    \"Nectin3\": \"#00bfa5\",\n",
    "    \"Col6a1\": \"#cddc39\",\n",
    "    \"Cd44\": \"#a7ffeb\",\n",
    "    \"Col6a2\": \"#18ffff\",\n",
    "    \"Col4a1\": \"#84ffff\",\n",
    "    \"Col4a2\": \"#00bcd4\",\n",
    "    \"Ifit5\": \"#ea80fc\",\n",
    "    \"Rsad2\": \"#ffff8d\",\n",
    "    \"Ddx60\": \"#ffab40\",\n",
    "    \"Znfx1\": \"#ff9800\",\n",
    "    \"Dhx58\": \"#536dfe\",\n",
    "    \"Ddx60\": \"#ffeb3b\",\n",
    "    \"Ifi30\": \"#8188E2\",\n",
    "    \"Ifi35\": \"#5964EF\",\n",
    "    \"Ifih1\": \"#ff5722\",\n",
    "    \"Samhd1\": \"#ff7043\",\n",
    "    \"Stat1\": \"#ff6e40\",\n",
    "    \"NP\": \"#DD7F84\",\n",
    "    \"PB2\": \"#F42A35\",\n",
    "    \"PB1\": \"#BF73B1\",\n",
    "    \"PA\": \"#E81AC1\",\n",
    "    \"HA\": \"#B7A2EA\",\n",
    "    \"NA\": \"#7D4FED\",\n",
    "    \"M\": \"#70D1EF\",\n",
    "    \"NS\": \"#29C0EF\",\n",
    "    \"PB1-14A\": \"#F22048\",\n",
    "    \"PB1-A14V\": \"#F3F759\",\n",
    "    \"PA-528T\": \"#EF81EC\",\n",
    "    \"PA-T528I\": \"#7EB8F2\",\n",
    "    \"NA-330I\": \"#89E5AE\",\n",
    "    \"NA-I330L\": \"#F4CCAB\",\n",
    "    \"PB1-533N\": \"#9066ED\",\n",
    "    \"PB1-B533S\": \"#D9D7DD\"\n",
    "}"
   ]
  },
  {
   "cell_type": "code",
   "execution_count": 4,
   "metadata": {},
   "outputs": [
    {
     "name": "stdout",
     "output_type": "stream",
     "text": [
      "(2937, 2874)\n"
     ]
    },
    {
     "name": "stderr",
     "output_type": "stream",
     "text": [
      "100%|██████████| 3701/3701 [02:10<00:00, 28.42it/s]\n"
     ]
    }
   ],
   "source": [
    "location = f\"./test.csv\"\n",
    "dapi = f\"./test.tif\"\n",
    "df = pd.read_csv(location)\n",
    "img = imread(dapi)\n",
    "print(img.shape)\n",
    "shape = img.shape[0:2]\n",
    "figsize = (shape[1]*0.03, shape[0]*0.03)\n",
    "\n",
    "labeled_mask, num_labels = measure.label(img, return_num=True, connectivity=2)\n",
    "regions = measure.regionprops(labeled_mask)\n",
    "\n",
    "fig_2, ax_2 = plt.subplots(figsize=figsize)\n",
    "ax_2.set_facecolor('black')        \n",
    "def plot_contour(region_label):\n",
    "    contour = measure.find_contours(labeled_mask == region_label, 0.5)\n",
    "    for c in contour:\n",
    "        ax_2.plot(c[:, 1], c[:, 0], linewidth=2.5, color='white', zorder=2)###todo gainsboro\n",
    "\n",
    "for gene, colors in dict_color.items():\n",
    "    df_gene = df[df[\"gene\"] == gene]\n",
    "    y = df_gene[\"dim_1\"]\n",
    "    x = df_gene[\"dim_2\"]\n",
    "    ax_2.scatter(x, y, s=15, c=colors, label=gene, alpha=1, zorder=1)\n",
    "\n",
    "for region in tqdm(regions):\n",
    "    plot_contour(region.label)\n",
    "\n",
    "ax_2.legend(prop={\"size\":30}, loc=2, ncol=1, bbox_to_anchor=(1.05, 1.0), borderaxespad=0.)\n",
    "fig_2.savefig(f\"./gene-exp-border.png\", format=\"png\")\n",
    "plt.cla()\n",
    "plt.close(fig_2)"
   ]
  }
 ],
 "metadata": {
  "kernelspec": {
   "display_name": "py",
   "language": "python",
   "name": "python3"
  },
  "language_info": {
   "codemirror_mode": {
    "name": "ipython",
    "version": 3
   },
   "file_extension": ".py",
   "mimetype": "text/x-python",
   "name": "python",
   "nbconvert_exporter": "python",
   "pygments_lexer": "ipython3",
   "version": "3.11.4"
  }
 },
 "nbformat": 4,
 "nbformat_minor": 2
}
